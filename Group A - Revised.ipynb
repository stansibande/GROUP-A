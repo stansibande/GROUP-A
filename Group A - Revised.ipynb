{
 "cells": [
  {
   "cell_type": "markdown",
   "id": "d1c7b659",
   "metadata": {},
   "source": [
    "# <center><font color='purple'>GROUP A</font></centre>\n",
    "\n",
    "### <font color='purple'>OBJECTIVES</font>\n",
    "    Solve a real world problem using skills learned during the Malawi data Science bootcamp\n",
    "\n",
    "### <font color='purple'>DATASET SOURCE</font>\n",
    "    https://www.kaggle.com\n",
    "\n",
    "### <font color='purple'>BACKGROUND</font>\n",
    "    Insurance companies are a huge help when it comes to covering medical bills of its members, but like any form of business, they need to make profits in order to stay in business, pay their employees and carry out their services effectively.\n",
    "\n",
    "    Insurance companies in Malawi like masm have their owns set of rules they follow when taking on a new customer, for example, Masm doesnt allow people above 60 to sign up, probably because they know those people have many health issues and as new customers it would be a loss.To come up with such rules, they probably did some research over data collected over some long periods and made informed decisons using that data.\n",
    "\n",
    "    The data set we will be loooking at is for an insurance company trying to determine a number of factors that affect the payments they make to their clients,we will assume this data has been collected over a period of time and management wants us to make informed decisions out of it to help the company stratergically improve its business. \n",
    "\n",
    "    In this presentation, we will explain the data, identify the relashionships between the features of the data using visualisation,  and then finally using Linear regression create a model that best fits our data so we can use it to make predictions about the data."
   ]
  },
  {
   "cell_type": "markdown",
   "id": "58213e70",
   "metadata": {},
   "source": [
    "### <font color='purple'>Step 1 : Importing libraries</font>\n",
    "    we use python because it comes with almost all the built in functions we would neeed to analyse, clean, visualise and work with our data \n",
    "    1.The numpy libray is used for almost all mathematical functions you would ever need\n",
    "    2.Pandas for data analysis and manipulation\n",
    "    3.Matplotlib for plotting graphs\n",
    "    4.Seaborn is also used for visualisation and data analysis\n",
    "    5.Statsmodels for statistical analysis of data"
   ]
  },
  {
   "cell_type": "code",
   "execution_count": 154,
   "id": "e00e73c1",
   "metadata": {},
   "outputs": [],
   "source": [
    "import numpy as np\n",
    "import pandas as pd\n",
    "import matplotlib.pyplot as plt\n",
    "import seaborn as sb\n",
    "import seaborn as sns\n",
    "import statsmodels.api as sm\n",
    "from sklearn.linear_model import LinearRegression\n",
    "from sklearn.model_selection import train_test_split\n",
    "from sklearn import metrics\n",
    "import statsmodels.formula.api as smf\n"
   ]
  },
  {
   "cell_type": "markdown",
   "id": "653c7a71",
   "metadata": {},
   "source": [
    "### <font color='purple'>Step 2: Importing the dataset we will use</font>\n",
    "    Note that we are using an offline csv file, a source can be from anywhere, online, offline and webscraping, just make sure that data you are using is clean."
   ]
  },
  {
   "cell_type": "code",
   "execution_count": 155,
   "id": "82f2834c",
   "metadata": {},
   "outputs": [],
   "source": [
    "df = pd.read_csv('insurance.csv')\n",
    "data = pd.read_csv('insurance.csv')"
   ]
  },
  {
   "cell_type": "markdown",
   "id": "72149d4d",
   "metadata": {},
   "source": [
    "### <font color='purple'>Step 3: Preprocessing our data</font>\n",
    "    This Helps give us a picture of the data we are using"
   ]
  },
  {
   "cell_type": "code",
   "execution_count": 156,
   "id": "a04c3c09",
   "metadata": {},
   "outputs": [
    {
     "data": {
      "text/html": [
       "<div>\n",
       "<style scoped>\n",
       "    .dataframe tbody tr th:only-of-type {\n",
       "        vertical-align: middle;\n",
       "    }\n",
       "\n",
       "    .dataframe tbody tr th {\n",
       "        vertical-align: top;\n",
       "    }\n",
       "\n",
       "    .dataframe thead th {\n",
       "        text-align: right;\n",
       "    }\n",
       "</style>\n",
       "<table border=\"1\" class=\"dataframe\">\n",
       "  <thead>\n",
       "    <tr style=\"text-align: right;\">\n",
       "      <th></th>\n",
       "      <th>age</th>\n",
       "      <th>sex</th>\n",
       "      <th>bmi</th>\n",
       "      <th>children</th>\n",
       "      <th>smoker</th>\n",
       "      <th>region</th>\n",
       "      <th>charges</th>\n",
       "    </tr>\n",
       "  </thead>\n",
       "  <tbody>\n",
       "    <tr>\n",
       "      <th>0</th>\n",
       "      <td>19</td>\n",
       "      <td>female</td>\n",
       "      <td>27.900</td>\n",
       "      <td>0</td>\n",
       "      <td>yes</td>\n",
       "      <td>southwest</td>\n",
       "      <td>16884.92400</td>\n",
       "    </tr>\n",
       "    <tr>\n",
       "      <th>1</th>\n",
       "      <td>18</td>\n",
       "      <td>male</td>\n",
       "      <td>33.770</td>\n",
       "      <td>1</td>\n",
       "      <td>no</td>\n",
       "      <td>southeast</td>\n",
       "      <td>1725.55230</td>\n",
       "    </tr>\n",
       "    <tr>\n",
       "      <th>2</th>\n",
       "      <td>28</td>\n",
       "      <td>male</td>\n",
       "      <td>33.000</td>\n",
       "      <td>3</td>\n",
       "      <td>no</td>\n",
       "      <td>southeast</td>\n",
       "      <td>4449.46200</td>\n",
       "    </tr>\n",
       "    <tr>\n",
       "      <th>3</th>\n",
       "      <td>33</td>\n",
       "      <td>male</td>\n",
       "      <td>22.705</td>\n",
       "      <td>0</td>\n",
       "      <td>no</td>\n",
       "      <td>northwest</td>\n",
       "      <td>21984.47061</td>\n",
       "    </tr>\n",
       "    <tr>\n",
       "      <th>4</th>\n",
       "      <td>32</td>\n",
       "      <td>male</td>\n",
       "      <td>28.880</td>\n",
       "      <td>0</td>\n",
       "      <td>no</td>\n",
       "      <td>northwest</td>\n",
       "      <td>3866.85520</td>\n",
       "    </tr>\n",
       "  </tbody>\n",
       "</table>\n",
       "</div>"
      ],
      "text/plain": [
       "   age     sex     bmi  children smoker     region      charges\n",
       "0   19  female  27.900         0    yes  southwest  16884.92400\n",
       "1   18    male  33.770         1     no  southeast   1725.55230\n",
       "2   28    male  33.000         3     no  southeast   4449.46200\n",
       "3   33    male  22.705         0     no  northwest  21984.47061\n",
       "4   32    male  28.880         0     no  northwest   3866.85520"
      ]
     },
     "execution_count": 156,
     "metadata": {},
     "output_type": "execute_result"
    }
   ],
   "source": [
    "#shows just the first 5 items in the dataset, can also use tail().\n",
    "df.head()"
   ]
  },
  {
   "cell_type": "code",
   "execution_count": 157,
   "id": "9ed81cae",
   "metadata": {},
   "outputs": [
    {
     "name": "stdout",
     "output_type": "stream",
     "text": [
      "<class 'pandas.core.frame.DataFrame'>\n",
      "RangeIndex: 1338 entries, 0 to 1337\n",
      "Data columns (total 7 columns):\n",
      " #   Column    Non-Null Count  Dtype  \n",
      "---  ------    --------------  -----  \n",
      " 0   age       1338 non-null   int64  \n",
      " 1   sex       1338 non-null   object \n",
      " 2   bmi       1338 non-null   float64\n",
      " 3   children  1338 non-null   int64  \n",
      " 4   smoker    1338 non-null   object \n",
      " 5   region    1338 non-null   object \n",
      " 6   charges   1338 non-null   float64\n",
      "dtypes: float64(2), int64(2), object(3)\n",
      "memory usage: 73.3+ KB\n"
     ]
    }
   ],
   "source": [
    "#a description of the data, showing the shape, dimensions,and data types\n",
    "df.info()"
   ]
  },
  {
   "cell_type": "code",
   "execution_count": 158,
   "id": "ff64a42a",
   "metadata": {},
   "outputs": [
    {
     "data": {
      "text/plain": [
       "age         1338\n",
       "sex         1338\n",
       "bmi         1338\n",
       "children    1338\n",
       "smoker      1338\n",
       "region      1338\n",
       "charges     1338\n",
       "dtype: int64"
      ]
     },
     "execution_count": 158,
     "metadata": {},
     "output_type": "execute_result"
    }
   ],
   "source": [
    "#null values, choose depending on choice to deal with them or not\n",
    "df.isnull().count()"
   ]
  },
  {
   "cell_type": "markdown",
   "id": "a2b79708",
   "metadata": {},
   "source": [
    "### <font color='purple'>More details about our dataset</font>\n",
    "\n",
    "    Notice some info does not make sence, eg sex and smokers...because the answers are yes or no, imposible to find a mean of that kind of string data so python automatically excludes those fields when we use the describe function as you can see below. To include them in, we must change their values into more quantifiable form"
   ]
  },
  {
   "cell_type": "code",
   "execution_count": 159,
   "id": "7b31869f",
   "metadata": {},
   "outputs": [
    {
     "data": {
      "text/html": [
       "<div>\n",
       "<style scoped>\n",
       "    .dataframe tbody tr th:only-of-type {\n",
       "        vertical-align: middle;\n",
       "    }\n",
       "\n",
       "    .dataframe tbody tr th {\n",
       "        vertical-align: top;\n",
       "    }\n",
       "\n",
       "    .dataframe thead th {\n",
       "        text-align: right;\n",
       "    }\n",
       "</style>\n",
       "<table border=\"1\" class=\"dataframe\">\n",
       "  <thead>\n",
       "    <tr style=\"text-align: right;\">\n",
       "      <th></th>\n",
       "      <th>count</th>\n",
       "      <th>mean</th>\n",
       "      <th>std</th>\n",
       "      <th>min</th>\n",
       "      <th>25%</th>\n",
       "      <th>50%</th>\n",
       "      <th>75%</th>\n",
       "      <th>max</th>\n",
       "    </tr>\n",
       "  </thead>\n",
       "  <tbody>\n",
       "    <tr>\n",
       "      <th>age</th>\n",
       "      <td>1338.0</td>\n",
       "      <td>39.207025</td>\n",
       "      <td>14.049960</td>\n",
       "      <td>18.0000</td>\n",
       "      <td>27.00000</td>\n",
       "      <td>39.000</td>\n",
       "      <td>51.000000</td>\n",
       "      <td>64.00000</td>\n",
       "    </tr>\n",
       "    <tr>\n",
       "      <th>bmi</th>\n",
       "      <td>1338.0</td>\n",
       "      <td>30.663397</td>\n",
       "      <td>6.098187</td>\n",
       "      <td>15.9600</td>\n",
       "      <td>26.29625</td>\n",
       "      <td>30.400</td>\n",
       "      <td>34.693750</td>\n",
       "      <td>53.13000</td>\n",
       "    </tr>\n",
       "    <tr>\n",
       "      <th>children</th>\n",
       "      <td>1338.0</td>\n",
       "      <td>1.094918</td>\n",
       "      <td>1.205493</td>\n",
       "      <td>0.0000</td>\n",
       "      <td>0.00000</td>\n",
       "      <td>1.000</td>\n",
       "      <td>2.000000</td>\n",
       "      <td>5.00000</td>\n",
       "    </tr>\n",
       "    <tr>\n",
       "      <th>charges</th>\n",
       "      <td>1338.0</td>\n",
       "      <td>13270.422265</td>\n",
       "      <td>12110.011237</td>\n",
       "      <td>1121.8739</td>\n",
       "      <td>4740.28715</td>\n",
       "      <td>9382.033</td>\n",
       "      <td>16639.912515</td>\n",
       "      <td>63770.42801</td>\n",
       "    </tr>\n",
       "  </tbody>\n",
       "</table>\n",
       "</div>"
      ],
      "text/plain": [
       "           count          mean           std        min         25%       50%  \\\n",
       "age       1338.0     39.207025     14.049960    18.0000    27.00000    39.000   \n",
       "bmi       1338.0     30.663397      6.098187    15.9600    26.29625    30.400   \n",
       "children  1338.0      1.094918      1.205493     0.0000     0.00000     1.000   \n",
       "charges   1338.0  13270.422265  12110.011237  1121.8739  4740.28715  9382.033   \n",
       "\n",
       "                   75%          max  \n",
       "age          51.000000     64.00000  \n",
       "bmi          34.693750     53.13000  \n",
       "children      2.000000      5.00000  \n",
       "charges   16639.912515  63770.42801  "
      ]
     },
     "execution_count": 159,
     "metadata": {},
     "output_type": "execute_result"
    }
   ],
   "source": [
    "df.describe().T"
   ]
  },
  {
   "cell_type": "code",
   "execution_count": 160,
   "id": "e8587305",
   "metadata": {},
   "outputs": [],
   "source": [
    "#we change their values to a binary 1 or o\n",
    "df.smoker.replace(('yes', 'no'), (1, 0), inplace=True)\n",
    "df.sex.replace(('female', 'male'), (1, 0), inplace=True)\n"
   ]
  },
  {
   "cell_type": "code",
   "execution_count": 161,
   "id": "fcfce186",
   "metadata": {},
   "outputs": [
    {
     "data": {
      "text/html": [
       "<div>\n",
       "<style scoped>\n",
       "    .dataframe tbody tr th:only-of-type {\n",
       "        vertical-align: middle;\n",
       "    }\n",
       "\n",
       "    .dataframe tbody tr th {\n",
       "        vertical-align: top;\n",
       "    }\n",
       "\n",
       "    .dataframe thead th {\n",
       "        text-align: right;\n",
       "    }\n",
       "</style>\n",
       "<table border=\"1\" class=\"dataframe\">\n",
       "  <thead>\n",
       "    <tr style=\"text-align: right;\">\n",
       "      <th></th>\n",
       "      <th>age</th>\n",
       "      <th>sex</th>\n",
       "      <th>bmi</th>\n",
       "      <th>children</th>\n",
       "      <th>smoker</th>\n",
       "      <th>charges</th>\n",
       "    </tr>\n",
       "  </thead>\n",
       "  <tbody>\n",
       "    <tr>\n",
       "      <th>count</th>\n",
       "      <td>1338.000000</td>\n",
       "      <td>1338.000000</td>\n",
       "      <td>1338.000000</td>\n",
       "      <td>1338.000000</td>\n",
       "      <td>1338.000000</td>\n",
       "      <td>1338.000000</td>\n",
       "    </tr>\n",
       "    <tr>\n",
       "      <th>mean</th>\n",
       "      <td>39.207025</td>\n",
       "      <td>0.494768</td>\n",
       "      <td>30.663397</td>\n",
       "      <td>1.094918</td>\n",
       "      <td>0.204783</td>\n",
       "      <td>13270.422265</td>\n",
       "    </tr>\n",
       "    <tr>\n",
       "      <th>std</th>\n",
       "      <td>14.049960</td>\n",
       "      <td>0.500160</td>\n",
       "      <td>6.098187</td>\n",
       "      <td>1.205493</td>\n",
       "      <td>0.403694</td>\n",
       "      <td>12110.011237</td>\n",
       "    </tr>\n",
       "    <tr>\n",
       "      <th>min</th>\n",
       "      <td>18.000000</td>\n",
       "      <td>0.000000</td>\n",
       "      <td>15.960000</td>\n",
       "      <td>0.000000</td>\n",
       "      <td>0.000000</td>\n",
       "      <td>1121.873900</td>\n",
       "    </tr>\n",
       "    <tr>\n",
       "      <th>25%</th>\n",
       "      <td>27.000000</td>\n",
       "      <td>0.000000</td>\n",
       "      <td>26.296250</td>\n",
       "      <td>0.000000</td>\n",
       "      <td>0.000000</td>\n",
       "      <td>4740.287150</td>\n",
       "    </tr>\n",
       "    <tr>\n",
       "      <th>50%</th>\n",
       "      <td>39.000000</td>\n",
       "      <td>0.000000</td>\n",
       "      <td>30.400000</td>\n",
       "      <td>1.000000</td>\n",
       "      <td>0.000000</td>\n",
       "      <td>9382.033000</td>\n",
       "    </tr>\n",
       "    <tr>\n",
       "      <th>75%</th>\n",
       "      <td>51.000000</td>\n",
       "      <td>1.000000</td>\n",
       "      <td>34.693750</td>\n",
       "      <td>2.000000</td>\n",
       "      <td>0.000000</td>\n",
       "      <td>16639.912515</td>\n",
       "    </tr>\n",
       "    <tr>\n",
       "      <th>max</th>\n",
       "      <td>64.000000</td>\n",
       "      <td>1.000000</td>\n",
       "      <td>53.130000</td>\n",
       "      <td>5.000000</td>\n",
       "      <td>1.000000</td>\n",
       "      <td>63770.428010</td>\n",
       "    </tr>\n",
       "  </tbody>\n",
       "</table>\n",
       "</div>"
      ],
      "text/plain": [
       "               age          sex          bmi     children       smoker  \\\n",
       "count  1338.000000  1338.000000  1338.000000  1338.000000  1338.000000   \n",
       "mean     39.207025     0.494768    30.663397     1.094918     0.204783   \n",
       "std      14.049960     0.500160     6.098187     1.205493     0.403694   \n",
       "min      18.000000     0.000000    15.960000     0.000000     0.000000   \n",
       "25%      27.000000     0.000000    26.296250     0.000000     0.000000   \n",
       "50%      39.000000     0.000000    30.400000     1.000000     0.000000   \n",
       "75%      51.000000     1.000000    34.693750     2.000000     0.000000   \n",
       "max      64.000000     1.000000    53.130000     5.000000     1.000000   \n",
       "\n",
       "            charges  \n",
       "count   1338.000000  \n",
       "mean   13270.422265  \n",
       "std    12110.011237  \n",
       "min     1121.873900  \n",
       "25%     4740.287150  \n",
       "50%     9382.033000  \n",
       "75%    16639.912515  \n",
       "max    63770.428010  "
      ]
     },
     "execution_count": 161,
     "metadata": {},
     "output_type": "execute_result"
    }
   ],
   "source": [
    "df.describe()"
   ]
  },
  {
   "cell_type": "markdown",
   "id": "c604cb54",
   "metadata": {},
   "source": [
    "### <font color='purple'>Step 4: Identify relationships about our data using visualisation</font>"
   ]
  },
  {
   "cell_type": "markdown",
   "id": "e1de29a1",
   "metadata": {},
   "source": [
    "    Fig1: The below figure tries to see the number of smokers in each region, and see if there is a pattern.information like this can be helpful to the insurance company"
   ]
  },
  {
   "cell_type": "code",
   "execution_count": 162,
   "id": "27a8a0a6",
   "metadata": {},
   "outputs": [
    {
     "data": {
      "text/plain": [
       "Text(0.5, 1.0, 'Smokers Per Region')"
      ]
     },
     "execution_count": 162,
     "metadata": {},
     "output_type": "execute_result"
    },
    {
     "data": {
      "image/png": "[encoded data removed]",
      "text/plain": [
       "<Figure size 720x360 with 1 Axes>"
      ]
     },
     "metadata": {
      "needs_background": "light"
     },
     "output_type": "display_data"
    }
   ],
   "source": [
    "ax= plt.figure(figsize=(10,5))\n",
    "sb.barplot(x='region', y='smoker', data=df)\n",
    "plt.title('Smokers Per Region')"
   ]
  },
  {
   "cell_type": "markdown",
   "id": "3a8d8525",
   "metadata": {},
   "source": [
    "    Fig2: Shows how the age of a client affects the charges"
   ]
  },
  {
   "cell_type": "code",
   "execution_count": 163,
   "id": "16192fa0",
   "metadata": {},
   "outputs": [
    {
     "data": {
      "text/plain": [
       "Text(0.5, 1.0, 'Insurance Charges Per Age')"
      ]
     },
     "execution_count": 163,
     "metadata": {},
     "output_type": "execute_result"
    },
    {
     "data": {
      "image/png": "[encoded data removed]",
      "text/plain": [
       "<Figure size 720x360 with 1 Axes>"
      ]
     },
     "metadata": {
      "needs_background": "light"
     },
     "output_type": "display_data"
    }
   ],
   "source": [
    "ax= plt.figure(figsize=(10,5))\n",
    "sb.barplot(x='age', y='charges', data=df)\n",
    "plt.title('Insurance Charges Per Age')"
   ]
  },
  {
   "cell_type": "markdown",
   "id": "cf369aab",
   "metadata": {},
   "source": [
    "    Fig3: Shows how the BMI of the peolpe in our dataset is barely affected by age of the client.\n",
    "            ### ideal BMI = 18.5 to 24.9, \n",
    "            ### >24.9 over weight & >30 to 34.9 Obese\n",
    "            ### <20 under weight"
   ]
  },
  {
   "cell_type": "code",
   "execution_count": 164,
   "id": "fd1e1aa4",
   "metadata": {},
   "outputs": [
    {
     "data": {
      "text/plain": [
       "Text(0.5, 1.0, 'BMI and Age')"
      ]
     },
     "execution_count": 164,
     "metadata": {},
     "output_type": "execute_result"
    },
    {
     "data": {
      "image/png": "[encoded data removed]",
      "text/plain": [
       "<Figure size 720x360 with 1 Axes>"
      ]
     },
     "metadata": {
      "needs_background": "light"
     },
     "output_type": "display_data"
    }
   ],
   "source": [
    "ax= plt.figure(figsize=(10,5))\n",
    "sb.barplot(x='age', y='bmi', data=df)\n",
    "plt.title('BMI and Age')"
   ]
  },
  {
   "cell_type": "markdown",
   "id": "53d8b6bc",
   "metadata": {},
   "source": [
    "    Fig4: BMI of client to charges, and as we can see, clients with higher bmi tend to pay more charges."
   ]
  },
  {
   "cell_type": "code",
   "execution_count": 165,
   "id": "8f04a7bf",
   "metadata": {},
   "outputs": [
    {
     "data": {
      "text/plain": [
       "Text(0.5, 1.0, 'Compare charges based on bmi level')"
      ]
     },
     "execution_count": 165,
     "metadata": {},
     "output_type": "execute_result"
    },
    {
     "data": {
      "image/png": "[encoded data removed]",
      "text/plain": [
       "<Figure size 648x648 with 1 Axes>"
      ]
     },
     "metadata": {
      "needs_background": "light"
     },
     "output_type": "display_data"
    }
   ],
   "source": [
    "sns.lmplot(data=df,x=\"bmi\",y=\"charges\",height=9)\n",
    "plt.xticks(fontsize=13)\n",
    "plt.yticks(fontsize=13)\n",
    "plt.xlabel(\"bim level\",fontsize=17)\n",
    "plt.ylabel(\"Charges\",fontsize=17)\n",
    "plt.title(\"Compare charges based on bmi level\",fontsize=21)"
   ]
  },
  {
   "cell_type": "markdown",
   "id": "bd128244",
   "metadata": {},
   "source": [
    "    Fig5: See Charges Per Region"
   ]
  },
  {
   "cell_type": "code",
   "execution_count": 166,
   "id": "ba2f5d09",
   "metadata": {},
   "outputs": [
    {
     "data": {
      "text/plain": [
       "Text(0.5, 1.0, 'Charges and region')"
      ]
     },
     "execution_count": 166,
     "metadata": {},
     "output_type": "execute_result"
    },
    {
     "data": {
      "image/png": "[encoded data removed]",
      "text/plain": [
       "<Figure size 1440x720 with 1 Axes>"
      ]
     },
     "metadata": {
      "needs_background": "light"
     },
     "output_type": "display_data"
    }
   ],
   "source": [
    "ax= plt.figure(figsize=(20,10))\n",
    "sb.barplot(x='region', y='charges', data=df)\n",
    "plt.title('Charges and region')"
   ]
  },
  {
   "cell_type": "markdown",
   "id": "8126999d",
   "metadata": {},
   "source": [
    "# <font color='purple'>DATA INTERPRETATION</font>"
   ]
  },
  {
   "cell_type": "markdown",
   "id": "a05ed0f4",
   "metadata": {},
   "source": [
    "### <font color='purple'>Step 5:Multiple Linear Regression</font>"
   ]
  },
  {
   "cell_type": "code",
   "execution_count": 167,
   "id": "8ad73bab",
   "metadata": {},
   "outputs": [],
   "source": [
    "# Here we decide to drop the region column for analysis since we found out it doesnt really affect our results\n",
    "data.drop(['region'], axis =1, inplace=True)\n"
   ]
  },
  {
   "cell_type": "code",
   "execution_count": 168,
   "id": "c8f2d140",
   "metadata": {},
   "outputs": [],
   "source": [
    "data.smoker.replace(('yes', 'no'), (1, 0), inplace=True)\n",
    "data.sex.replace(('male', 'female'), (1, 0), inplace=True)"
   ]
  },
  {
   "cell_type": "code",
   "execution_count": 169,
   "id": "19512946",
   "metadata": {},
   "outputs": [
    {
     "name": "stdout",
     "output_type": "stream",
     "text": [
      "-12052.46198566474\n",
      "[  257.73498767  -128.63985357   322.36421449   474.41112061\n",
      " 23823.39253065]\n"
     ]
    }
   ],
   "source": [
    "# Creating a multiple linear regression model using scikit-learn \n",
    "\n",
    "# create X and y\n",
    "feature_cols = ['age','sex','bmi','children','smoker']\n",
    "X = data[feature_cols]\n",
    "y = data.charges\n",
    "\n",
    "# instantiate and fit\n",
    "linreg = LinearRegression()\n",
    "linreg.fit(X, y)\n",
    "\n",
    "# print the coefficients\n",
    "print(linreg.intercept_)\n",
    "print(linreg.coef_)"
   ]
  },
  {
   "cell_type": "code",
   "execution_count": 170,
   "id": "f469a7b3",
   "metadata": {},
   "outputs": [
    {
     "data": {
      "text/plain": [
       "[('age', 257.734987669245),\n",
       " ('sex', -128.63985356970005),\n",
       " ('bmi', 322.3642144860739),\n",
       " ('children', 474.41112061269064),\n",
       " ('smoker', 23823.392530652625)]"
      ]
     },
     "execution_count": 170,
     "metadata": {},
     "output_type": "execute_result"
    }
   ],
   "source": [
    "# Pairing the feature names with the coefficients\n",
    "zipped = zip(feature_cols, linreg.coef_)\n",
    "list(zipped)"
   ]
  },
  {
   "cell_type": "markdown",
   "id": "dc0e8398",
   "metadata": {},
   "source": [
    "### <font color='purple'>P Values</font>\n",
    "    In statistics, the p-value is the probability of obtaining results at least as extreme as the observed results of a statistical hypothesis test, assuming that the null hypothesis is correct. A smaller p-value (<0.05) means that there is stronger evidence in favor of the alternative hypothesis."
   ]
  },
  {
   "cell_type": "code",
   "execution_count": 171,
   "id": "dd1a5b5f",
   "metadata": {},
   "outputs": [
    {
     "name": "stdout",
     "output_type": "stream",
     "text": [
      "Intercept    8.099035e-35\n",
      "age          2.593679e-89\n",
      "sex          6.996412e-01\n",
      "bmi          1.954711e-30\n",
      "children     5.967197e-04\n",
      "smoker       0.000000e+00\n",
      "dtype: float64\n"
     ]
    }
   ],
   "source": [
    "# Using statsmodels to create a fitted model with all five features\n",
    "\n",
    "LinModel = smf.ols(formula='charges ~ age + sex + bmi + children + smoker', data=data).fit()\n",
    "\n",
    "# Printing the p-values for the model coefficients. The p-value < 0.05 implies that the feature in question\n",
    "# has a positive effect on charges\n",
    "\n",
    "print(LinModel.pvalues)"
   ]
  },
  {
   "cell_type": "markdown",
   "id": "5ed5bde1",
   "metadata": {},
   "source": [
    "  ### <font color='purple'>R-Squared</font>\n",
    "    R-squared is a goodness-of-fit measure for linear regression models\n",
    "    It tells us how well the model we have created fits the data\n",
    "    In general, the higher the R-squared, the better the model fits our data.\n",
    "    in this case as seen below. our model fits our data well.\n",
    "    the rsquared value of 0.7 is greater than 0.5.\n",
    "    rsquared values of less than 0.5 are an indication that the model we are using is not a good fit for our data."
   ]
  },
  {
   "cell_type": "code",
   "execution_count": 172,
   "id": "93686897",
   "metadata": {},
   "outputs": [
    {
     "data": {
      "text/plain": [
       "0.7497225098709179"
      ]
     },
     "execution_count": 172,
     "metadata": {},
     "output_type": "execute_result"
    }
   ],
   "source": [
    "# R-squared value for the model with five features\n",
    "LinModel = smf.ols(formula='charges ~ age + sex + bmi + children + smoker', data=data).fit()\n",
    "LinModel.rsquared"
   ]
  },
  {
   "cell_type": "code",
   "execution_count": 173,
   "id": "dc84b7ce",
   "metadata": {},
   "outputs": [
    {
     "data": {
      "text/plain": [
       "0.749694530346479"
      ]
     },
     "execution_count": 173,
     "metadata": {},
     "output_type": "execute_result"
    }
   ],
   "source": [
    "# R-squared value for the model with four features\n",
    "LinModel = smf.ols(formula='charges ~ age + bmi + children + smoker', data=data).fit()\n",
    "LinModel.rsquared"
   ]
  },
  {
   "cell_type": "code",
   "execution_count": null,
   "id": "2356e449",
   "metadata": {},
   "outputs": [],
   "source": []
  }
 ],
 "metadata": {
  "kernelspec": {
   "display_name": "Python 3",
   "language": "python",
   "name": "python3"
  },
  "language_info": {
   "codemirror_mode": {
    "name": "ipython",
    "version": 3
   },
   "file_extension": ".py",
   "mimetype": "text/x-python",
   "name": "python",
   "nbconvert_exporter": "python",
   "pygments_lexer": "ipython3",
   "version": "3.8.8"
  }
 },
 "nbformat": 4,
 "nbformat_minor": 5
}
